{
  "nbformat": 4,
  "nbformat_minor": 0,
  "metadata": {
    "colab": {
      "provenance": [],
      "authorship_tag": "ABX9TyOl6QDKt5tZvCV8lNmCxe+l",
      "include_colab_link": true
    },
    "kernelspec": {
      "name": "python3",
      "display_name": "Python 3"
    },
    "language_info": {
      "name": "python"
    }
  },
  "cells": [
    {
      "cell_type": "markdown",
      "metadata": {
        "id": "view-in-github",
        "colab_type": "text"
      },
      "source": [
        "<a href=\"https://colab.research.google.com/github/gayatripendhari/DataScience_Training/blob/main/Day1_HW.ipynb\" target=\"_parent\"><img src=\"https://colab.research.google.com/assets/colab-badge.svg\" alt=\"Open In Colab\"/></a>"
      ]
    },
    {
      "cell_type": "code",
      "execution_count": null,
      "metadata": {
        "id": "xeYRdgVeuavV"
      },
      "outputs": [],
      "source": [
        "import numpy as np"
      ]
    },
    {
      "cell_type": "code",
      "source": [
        "arr=np.array([1,2,3,4,5,6,8,7])\n",
        "print(arr)\n",
        "print(type(arr))"
      ],
      "metadata": {
        "colab": {
          "base_uri": "https://localhost:8080/"
        },
        "id": "Z2CFe7-EMYtt",
        "outputId": "f04b8473-6386-4dd4-d5c6-aad950c8ae5d"
      },
      "execution_count": null,
      "outputs": [
        {
          "output_type": "stream",
          "name": "stdout",
          "text": [
            "[1 2 3 4 5 6 8 7]\n",
            "<class 'numpy.ndarray'>\n"
          ]
        }
      ]
    },
    {
      "cell_type": "code",
      "source": [
        "zero_dim=np.array(23)\n",
        "print(zero_dim.ndim)"
      ],
      "metadata": {
        "colab": {
          "base_uri": "https://localhost:8080/"
        },
        "id": "xum0jco9Mr6w",
        "outputId": "8b6897ae-e8dc-4cbf-e043-8c3f99b9d149"
      },
      "execution_count": null,
      "outputs": [
        {
          "output_type": "stream",
          "name": "stdout",
          "text": [
            "0\n"
          ]
        }
      ]
    },
    {
      "cell_type": "code",
      "source": [
        "one_d=np.array([1,2,3])\n",
        "print(\"Dimension=\",one_d.ndim)"
      ],
      "metadata": {
        "colab": {
          "base_uri": "https://localhost:8080/"
        },
        "id": "5RvdbPaGNQPr",
        "outputId": "638090dd-6fe7-4150-b46d-2dc090229daa"
      },
      "execution_count": null,
      "outputs": [
        {
          "output_type": "stream",
          "name": "stdout",
          "text": [
            "Dimension= 1\n"
          ]
        }
      ]
    },
    {
      "cell_type": "code",
      "source": [
        "two_d=np.array([[1,2,3],[4,5,6]])\n",
        "print(\"Dimension=\",two_d.ndim)"
      ],
      "metadata": {
        "colab": {
          "base_uri": "https://localhost:8080/"
        },
        "id": "BE7cMUStNgiQ",
        "outputId": "93721c8e-3a36-4cbf-fd4d-aacf79faa2ab"
      },
      "execution_count": null,
      "outputs": [
        {
          "output_type": "stream",
          "name": "stdout",
          "text": [
            "Dimension= 2\n"
          ]
        }
      ]
    },
    {
      "cell_type": "code",
      "source": [
        "three_d=np.array([[[1,2,3],[4,5,6],[7,8,9]]])\n",
        "print(\"Dimension=\",three_d.ndim)"
      ],
      "metadata": {
        "colab": {
          "base_uri": "https://localhost:8080/"
        },
        "id": "aIDUBom0N5YZ",
        "outputId": "d15b4656-d7c9-4a9a-d05f-f23405d1f44f"
      },
      "execution_count": null,
      "outputs": [
        {
          "output_type": "stream",
          "name": "stdout",
          "text": [
            "Dimension= 3\n"
          ]
        }
      ]
    },
    {
      "cell_type": "code",
      "source": [
        "print(arr[0])\n",
        "print(arr[2]+arr[5])"
      ],
      "metadata": {
        "colab": {
          "base_uri": "https://localhost:8080/"
        },
        "id": "1TeQQYXROVyk",
        "outputId": "a5154d2a-7276-46d1-f484-24f299d626d8"
      },
      "execution_count": null,
      "outputs": [
        {
          "output_type": "stream",
          "name": "stdout",
          "text": [
            "1\n",
            "9\n"
          ]
        }
      ]
    },
    {
      "cell_type": "code",
      "source": [
        "print(two_d[0][1])\n",
        "print(two_d[0,1])"
      ],
      "metadata": {
        "colab": {
          "base_uri": "https://localhost:8080/"
        },
        "id": "lG0_GoO-OfLx",
        "outputId": "d9e3229a-6473-4d46-ca40-d56a902fd332"
      },
      "execution_count": null,
      "outputs": [
        {
          "output_type": "stream",
          "name": "stdout",
          "text": [
            "2\n",
            "2\n"
          ]
        }
      ]
    },
    {
      "cell_type": "code",
      "source": [
        "print(two_d[0,-1])"
      ],
      "metadata": {
        "colab": {
          "base_uri": "https://localhost:8080/"
        },
        "id": "z19lJolSOyoW",
        "outputId": "007199b1-27dc-4040-f110-35a175285263"
      },
      "execution_count": null,
      "outputs": [
        {
          "output_type": "stream",
          "name": "stdout",
          "text": [
            "3\n"
          ]
        }
      ]
    },
    {
      "cell_type": "code",
      "source": [
        "print(two_d[-1,0])"
      ],
      "metadata": {
        "colab": {
          "base_uri": "https://localhost:8080/"
        },
        "id": "yHn1kIthPEb3",
        "outputId": "82f1c814-417f-4d35-9bdd-ab126105fc91"
      },
      "execution_count": null,
      "outputs": [
        {
          "output_type": "stream",
          "name": "stdout",
          "text": [
            "4\n"
          ]
        }
      ]
    },
    {
      "cell_type": "code",
      "source": [
        "print(two_d[1,1])"
      ],
      "metadata": {
        "colab": {
          "base_uri": "https://localhost:8080/"
        },
        "id": "OUCYGT-TPJpX",
        "outputId": "abee836c-e2b7-4c7d-b85a-2b13e756b7bb"
      },
      "execution_count": null,
      "outputs": [
        {
          "output_type": "stream",
          "name": "stdout",
          "text": [
            "5\n"
          ]
        }
      ]
    },
    {
      "cell_type": "code",
      "source": [
        "print(two_d[0,0])"
      ],
      "metadata": {
        "colab": {
          "base_uri": "https://localhost:8080/"
        },
        "id": "L_Do5g0XPPge",
        "outputId": "d4551529-31ee-4a04-fc0d-0e590caa498a"
      },
      "execution_count": null,
      "outputs": [
        {
          "output_type": "stream",
          "name": "stdout",
          "text": [
            "1\n"
          ]
        }
      ]
    },
    {
      "cell_type": "code",
      "source": [
        "print(two_d[-1,-1])"
      ],
      "metadata": {
        "colab": {
          "base_uri": "https://localhost:8080/"
        },
        "id": "nfOv-ZIlPUQa",
        "outputId": "67a8a27b-07e2-4063-e1e9-60b2f36d923a"
      },
      "execution_count": null,
      "outputs": [
        {
          "output_type": "stream",
          "name": "stdout",
          "text": [
            "6\n"
          ]
        }
      ]
    },
    {
      "cell_type": "code",
      "source": [
        "print(two_d[:2,1:4])"
      ],
      "metadata": {
        "colab": {
          "base_uri": "https://localhost:8080/"
        },
        "id": "je_NppyYPmOA",
        "outputId": "63135572-6101-489f-85df-c630d57ab3a6"
      },
      "execution_count": null,
      "outputs": [
        {
          "output_type": "stream",
          "name": "stdout",
          "text": [
            "[[2 3]\n",
            " [5 6]]\n"
          ]
        }
      ]
    },
    {
      "cell_type": "code",
      "source": [
        "print(two_d[1: ,:2])"
      ],
      "metadata": {
        "colab": {
          "base_uri": "https://localhost:8080/"
        },
        "id": "yDShIcrGPu6j",
        "outputId": "9b5e73bb-04bd-4a70-b7bb-a94729f18706"
      },
      "execution_count": null,
      "outputs": [
        {
          "output_type": "stream",
          "name": "stdout",
          "text": [
            "[[4 5]]\n"
          ]
        }
      ]
    },
    {
      "cell_type": "code",
      "source": [
        "arr1=np.array([1,2,3,4,56])\n",
        "arr1.dtype"
      ],
      "metadata": {
        "colab": {
          "base_uri": "https://localhost:8080/"
        },
        "id": "mykV5Pv4P5u7",
        "outputId": "9b6a9ad2-8262-4c52-ed85-fa143932c5cc"
      },
      "execution_count": null,
      "outputs": [
        {
          "output_type": "execute_result",
          "data": {
            "text/plain": [
              "dtype('int64')"
            ]
          },
          "metadata": {},
          "execution_count": 330
        }
      ]
    },
    {
      "cell_type": "code",
      "source": [
        "lst=np.array([12,'a','b',34])\n",
        "print(lst,lst.dtype)"
      ],
      "metadata": {
        "colab": {
          "base_uri": "https://localhost:8080/"
        },
        "id": "vt9exOF8QMv0",
        "outputId": "2c89f853-82eb-451e-c476-50445a1756cb"
      },
      "execution_count": null,
      "outputs": [
        {
          "output_type": "stream",
          "name": "stdout",
          "text": [
            "['12' 'a' 'b' '34'] <U21\n"
          ]
        }
      ]
    },
    {
      "cell_type": "code",
      "source": [
        "print(lst[1])\n",
        "print(lst[0])\n",
        "print(lst[2])\n",
        "print(lst[3])"
      ],
      "metadata": {
        "colab": {
          "base_uri": "https://localhost:8080/"
        },
        "id": "33gXufaIQts-",
        "outputId": "492e06fd-5f44-4c0c-e65d-ad6965adfc03"
      },
      "execution_count": null,
      "outputs": [
        {
          "output_type": "stream",
          "name": "stdout",
          "text": [
            "a\n",
            "12\n",
            "b\n",
            "34\n"
          ]
        }
      ]
    },
    {
      "cell_type": "code",
      "source": [
        "b=np.array([12,23,34,45,], dtype='S')     # you can also specify datatype of array\n",
        "print(b)\n",
        "print(b.dtype)\n",
        "print(type(b[1]))"
      ],
      "metadata": {
        "colab": {
          "base_uri": "https://localhost:8080/"
        },
        "id": "wF587nbDQ7sa",
        "outputId": "b0bbf16d-ba94-4472-ff68-8d753aa1872d"
      },
      "execution_count": null,
      "outputs": [
        {
          "output_type": "stream",
          "name": "stdout",
          "text": [
            "[b'12' b'23' b'34' b'45']\n",
            "|S2\n",
            "<class 'numpy.bytes_'>\n"
          ]
        }
      ]
    },
    {
      "cell_type": "code",
      "source": [
        "table=np.arange(7,71,7)         # np.arange is same as range it is used to generate the range of numbers from sart,end and step size\n",
        "print(table)"
      ],
      "metadata": {
        "colab": {
          "base_uri": "https://localhost:8080/"
        },
        "id": "Ms1_ON9bRInR",
        "outputId": "8b13f30a-384d-47a9-f127-aa61d444716d"
      },
      "execution_count": null,
      "outputs": [
        {
          "output_type": "stream",
          "name": "stdout",
          "text": [
            "[ 7 14 21 28 35 42 49 56 63 70]\n"
          ]
        }
      ]
    },
    {
      "cell_type": "code",
      "source": [
        "num=np.array([12,3.4,2,])\n",
        "print(\"Datatype of array\",num.dtype)\n",
        "print(\"Dimension of array=\",num.ndim)\n",
        "print(\"type of array\",type(num))\n",
        "print(num[0],num[1],num[2])"
      ],
      "metadata": {
        "colab": {
          "base_uri": "https://localhost:8080/"
        },
        "id": "7TZy9-DcRNEg",
        "outputId": "332e3de5-0d07-4dbd-cbd1-e25bd43023d5"
      },
      "execution_count": null,
      "outputs": [
        {
          "output_type": "stream",
          "name": "stdout",
          "text": [
            "Datatype of array float64\n",
            "Dimension of array= 1\n",
            "type of array <class 'numpy.ndarray'>\n",
            "12.0 3.4 2.0\n"
          ]
        }
      ]
    },
    {
      "cell_type": "code",
      "source": [
        "print(num*100)"
      ],
      "metadata": {
        "colab": {
          "base_uri": "https://localhost:8080/"
        },
        "id": "Fe_4fu4BSDgM",
        "outputId": "652eee59-274f-458e-a492-0956f89443c7"
      },
      "execution_count": null,
      "outputs": [
        {
          "output_type": "stream",
          "name": "stdout",
          "text": [
            "[1200.  340.  200.]\n"
          ]
        }
      ]
    },
    {
      "cell_type": "code",
      "source": [
        "import random"
      ],
      "metadata": {
        "id": "Ud8oe6IRSKRk"
      },
      "execution_count": null,
      "outputs": []
    },
    {
      "cell_type": "code",
      "source": [
        "print(random.randint(10,20))"
      ],
      "metadata": {
        "colab": {
          "base_uri": "https://localhost:8080/"
        },
        "id": "p4sAdwaiSVO6",
        "outputId": "9d9f5980-cb22-41df-cede-09f574da00aa"
      },
      "execution_count": null,
      "outputs": [
        {
          "output_type": "stream",
          "name": "stdout",
          "text": [
            "17\n"
          ]
        }
      ]
    },
    {
      "cell_type": "code",
      "source": [
        "seq=[]\n",
        "for i in range(100):\n",
        "  seq.append(random.randint(20,70))\n",
        "print(seq)"
      ],
      "metadata": {
        "colab": {
          "base_uri": "https://localhost:8080/"
        },
        "id": "i06Plx41SgXg",
        "outputId": "d47d4e47-48be-4774-c58a-34bf64580c91"
      },
      "execution_count": null,
      "outputs": [
        {
          "output_type": "stream",
          "name": "stdout",
          "text": [
            "[63, 60, 55, 38, 46, 61, 63, 30, 51, 23, 51, 28, 44, 23, 67, 34, 23, 43, 57, 35, 51, 37, 51, 66, 57, 69, 60, 58, 70, 48, 46, 30, 37, 40, 39, 36, 26, 32, 60, 59, 32, 65, 44, 26, 65, 65, 38, 47, 65, 62, 41, 33, 57, 41, 46, 35, 65, 57, 47, 36, 54, 68, 32, 55, 42, 45, 20, 65, 55, 33, 26, 52, 66, 49, 45, 22, 46, 45, 62, 49, 43, 25, 59, 39, 67, 61, 42, 64, 56, 60, 49, 68, 48, 62, 25, 60, 61, 67, 21, 63]\n"
          ]
        }
      ]
    },
    {
      "cell_type": "code",
      "source": [
        "our_ar=np.array(seq)\n",
        "print(our_ar)"
      ],
      "metadata": {
        "colab": {
          "base_uri": "https://localhost:8080/"
        },
        "id": "Ic41O1IASpZp",
        "outputId": "3cfd5568-95f1-4729-fd52-fcebf6437eec"
      },
      "execution_count": null,
      "outputs": [
        {
          "output_type": "stream",
          "name": "stdout",
          "text": [
            "[63 60 55 38 46 61 63 30 51 23 51 28 44 23 67 34 23 43 57 35 51 37 51 66\n",
            " 57 69 60 58 70 48 46 30 37 40 39 36 26 32 60 59 32 65 44 26 65 65 38 47\n",
            " 65 62 41 33 57 41 46 35 65 57 47 36 54 68 32 55 42 45 20 65 55 33 26 52\n",
            " 66 49 45 22 46 45 62 49 43 25 59 39 67 61 42 64 56 60 49 68 48 62 25 60\n",
            " 61 67 21 63]\n"
          ]
        }
      ]
    },
    {
      "cell_type": "code",
      "source": [
        "print('Median =',np.median(our_ar))"
      ],
      "metadata": {
        "colab": {
          "base_uri": "https://localhost:8080/"
        },
        "id": "I8wEqerkS1B2",
        "outputId": "22def5ce-04cc-40ee-b396-d59f665d16f6"
      },
      "execution_count": null,
      "outputs": [
        {
          "output_type": "stream",
          "name": "stdout",
          "text": [
            "Median = 48.5\n"
          ]
        }
      ]
    },
    {
      "cell_type": "code",
      "source": [
        "print('Mean =',our_ar.mean())"
      ],
      "metadata": {
        "colab": {
          "base_uri": "https://localhost:8080/"
        },
        "id": "Zc7Or4kITBCz",
        "outputId": "353f132c-a8db-49d5-8a15-b9db279a7fb4"
      },
      "execution_count": null,
      "outputs": [
        {
          "output_type": "stream",
          "name": "stdout",
          "text": [
            "Mean = 48.05\n"
          ]
        }
      ]
    },
    {
      "cell_type": "code",
      "source": [
        "print('Max :',our_ar.max())"
      ],
      "metadata": {
        "colab": {
          "base_uri": "https://localhost:8080/"
        },
        "id": "pX7QGRQ0TGMz",
        "outputId": "b257ede3-5936-4c4b-85d1-ebeed124a69f"
      },
      "execution_count": null,
      "outputs": [
        {
          "output_type": "stream",
          "name": "stdout",
          "text": [
            "Max : 70\n"
          ]
        }
      ]
    },
    {
      "cell_type": "code",
      "source": [
        "print('Index of max elmt :',our_ar.argmax())    # argmax gives the index of the maximim elmt\n",
        "print(our_ar[91])"
      ],
      "metadata": {
        "colab": {
          "base_uri": "https://localhost:8080/"
        },
        "id": "XGLqgsNxTQbJ",
        "outputId": "909325e8-b653-4927-aef5-86b52ced478c"
      },
      "execution_count": null,
      "outputs": [
        {
          "output_type": "stream",
          "name": "stdout",
          "text": [
            "Index of max elmt : 28\n",
            "68\n"
          ]
        }
      ]
    },
    {
      "cell_type": "code",
      "source": [
        "fa=np.array([1,2,3])\n",
        "sa=np.array([9,7,6])\n",
        "print(np.concatenate((fa,sa)))"
      ],
      "metadata": {
        "colab": {
          "base_uri": "https://localhost:8080/"
        },
        "id": "n7Mc0-loTb2m",
        "outputId": "9b0a2647-2581-4c4e-a958-719e74757f8c"
      },
      "execution_count": null,
      "outputs": [
        {
          "output_type": "stream",
          "name": "stdout",
          "text": [
            "[1 2 3 9 7 6]\n"
          ]
        }
      ]
    },
    {
      "cell_type": "code",
      "source": [
        "first_m=np.arange(15).reshape(5,3)          # np.arange creates an array and rehape arranges the matrix in given format of rows and columns"
      ],
      "metadata": {
        "id": "Xo1EdS36TlE2"
      },
      "execution_count": null,
      "outputs": []
    },
    {
      "cell_type": "code",
      "source": [
        "print(first_m)"
      ],
      "metadata": {
        "colab": {
          "base_uri": "https://localhost:8080/"
        },
        "id": "UcqS-Gk-TnzW",
        "outputId": "551ca9e7-f89e-41a9-9d98-f9ec61c85f21"
      },
      "execution_count": null,
      "outputs": [
        {
          "output_type": "stream",
          "name": "stdout",
          "text": [
            "[[ 0  1  2]\n",
            " [ 3  4  5]\n",
            " [ 6  7  8]\n",
            " [ 9 10 11]\n",
            " [12 13 14]]\n"
          ]
        }
      ]
    },
    {
      "cell_type": "code",
      "source": [
        "sec_m=np.array([2,4,6,8]).resize(2,2)\n",
        "print(sec_m)"
      ],
      "metadata": {
        "colab": {
          "base_uri": "https://localhost:8080/"
        },
        "id": "45VFFHEnTuzr",
        "outputId": "f4354a55-0ef3-4478-898e-beaf0a05a5da"
      },
      "execution_count": null,
      "outputs": [
        {
          "output_type": "stream",
          "name": "stdout",
          "text": [
            "None\n"
          ]
        }
      ]
    },
    {
      "cell_type": "code",
      "source": [
        "x=np.ones((2,3))     # np.ones generates an array of all elmts as 1 default is float\n",
        "print(x)"
      ],
      "metadata": {
        "colab": {
          "base_uri": "https://localhost:8080/"
        },
        "id": "bK4WFhKBT69I",
        "outputId": "31d03e6b-7b28-443d-9ecc-977d7b70bab1"
      },
      "execution_count": null,
      "outputs": [
        {
          "output_type": "stream",
          "name": "stdout",
          "text": [
            "[[1. 1. 1.]\n",
            " [1. 1. 1.]]\n"
          ]
        }
      ]
    },
    {
      "cell_type": "code",
      "source": [
        "x.resize(5,2)\n",
        "print(x)"
      ],
      "metadata": {
        "colab": {
          "base_uri": "https://localhost:8080/"
        },
        "id": "3mnhwWJzUAc5",
        "outputId": "28c7362b-f8c4-4a78-f9af-f5de2056beb7"
      },
      "execution_count": null,
      "outputs": [
        {
          "output_type": "stream",
          "name": "stdout",
          "text": [
            "[[1. 1.]\n",
            " [1. 1.]\n",
            " [1. 1.]\n",
            " [0. 0.]\n",
            " [0. 0.]]\n"
          ]
        }
      ]
    },
    {
      "cell_type": "code",
      "source": [
        "q=[2,3,4]\n",
        "r=[4,5,6]\n",
        "print(q+r)"
      ],
      "metadata": {
        "colab": {
          "base_uri": "https://localhost:8080/"
        },
        "id": "c-MSzqgRUrPp",
        "outputId": "c1d08ece-8cc1-4fd4-be6b-9127f85b805c"
      },
      "execution_count": null,
      "outputs": [
        {
          "output_type": "stream",
          "name": "stdout",
          "text": [
            "[2, 3, 4, 4, 5, 6]\n"
          ]
        }
      ]
    },
    {
      "cell_type": "code",
      "source": [
        "print(np.array(q)+np.array(r))"
      ],
      "metadata": {
        "colab": {
          "base_uri": "https://localhost:8080/"
        },
        "id": "g87QqmnoUxfP",
        "outputId": "a7450c66-a22d-4456-cb17-93e380ddbb59"
      },
      "execution_count": null,
      "outputs": [
        {
          "output_type": "stream",
          "name": "stdout",
          "text": [
            "[ 6  8 10]\n"
          ]
        }
      ]
    },
    {
      "cell_type": "code",
      "source": [
        "l1=np.random.randn(10)"
      ],
      "metadata": {
        "id": "q5XBCVeeU-bQ"
      },
      "execution_count": null,
      "outputs": []
    },
    {
      "cell_type": "code",
      "source": [
        "print(l1)"
      ],
      "metadata": {
        "colab": {
          "base_uri": "https://localhost:8080/"
        },
        "id": "TINvsoVVVESt",
        "outputId": "4e9d6f25-fdd9-4db0-d7a9-842c8d63e153"
      },
      "execution_count": null,
      "outputs": [
        {
          "output_type": "stream",
          "name": "stdout",
          "text": [
            "[ 1.22257288 -0.93176973 -1.18702936 -0.44113898  1.76992326 -0.08684038\n",
            " -0.44004933 -0.74971682  1.03562119  0.86069646]\n"
          ]
        }
      ]
    },
    {
      "cell_type": "code",
      "source": [
        "import matplotlib.pyplot as plt"
      ],
      "metadata": {
        "id": "J9kfOaCRVGAM"
      },
      "execution_count": null,
      "outputs": []
    },
    {
      "cell_type": "code",
      "source": [
        "plt.plot(l1)"
      ],
      "metadata": {
        "colab": {
          "base_uri": "https://localhost:8080/",
          "height": 447
        },
        "id": "tyA9ZbnPVKPE",
        "outputId": "a577f1a0-b2ad-49a6-ac24-d6f7602498c0"
      },
      "execution_count": null,
      "outputs": [
        {
          "output_type": "execute_result",
          "data": {
            "text/plain": [
              "[<matplotlib.lines.Line2D at 0x7dc876727a30>]"
            ]
          },
          "metadata": {},
          "execution_count": 356
        },
        {
          "output_type": "display_data",
          "data": {
            "text/plain": [
              "<Figure size 640x480 with 1 Axes>"
            ],
            "image/png": "[encoded data removed]"
          },
          "metadata": {}
        }
      ]
    },
    {
      "cell_type": "code",
      "source": [
        "print(np.random.rand())"
      ],
      "metadata": {
        "colab": {
          "base_uri": "https://localhost:8080/"
        },
        "id": "_yUrCbAfVWFd",
        "outputId": "e99b8ec7-401c-4e1f-d9bb-434291b90c4f"
      },
      "execution_count": null,
      "outputs": [
        {
          "output_type": "stream",
          "name": "stdout",
          "text": [
            "0.261153771584819\n"
          ]
        }
      ]
    },
    {
      "cell_type": "code",
      "source": [
        "l2=np.random.normal(4,3,10)\n",
        "print(l2)"
      ],
      "metadata": {
        "colab": {
          "base_uri": "https://localhost:8080/"
        },
        "id": "ArEwV16XVe-7",
        "outputId": "500b6063-2d86-47b1-a7d7-7e862a5e4062"
      },
      "execution_count": null,
      "outputs": [
        {
          "output_type": "stream",
          "name": "stdout",
          "text": [
            "[ 6.76686099 -1.64111348  4.13915336  6.10975106  2.61042208  7.70104629\n",
            "  7.09120142  6.61770725  1.93135244  2.26927476]\n"
          ]
        }
      ]
    },
    {
      "cell_type": "code",
      "source": [],
      "metadata": {
        "id": "Fyj-auiFVlkV"
      },
      "execution_count": null,
      "outputs": []
    }
  ]
}